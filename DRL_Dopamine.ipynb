{
  "nbformat": 4,
  "nbformat_minor": 0,
  "metadata": {
    "colab": {
      "name": "DRL_Dopamine.ipynb",
      "provenance": [],
      "authorship_tag": "ABX9TyM/C7qMWosFpBGjudH7Gr83",
      "include_colab_link": true
    },
    "kernelspec": {
      "name": "python3",
      "display_name": "Python 3"
    },
    "accelerator": "GPU"
  },
  "cells": [
    {
      "cell_type": "markdown",
      "metadata": {
        "id": "view-in-github",
        "colab_type": "text"
      },
      "source": [
        "<a href=\"https://colab.research.google.com/github/cxbxmxcx/AugmentedRealityGameDevelopment/blob/master/DRL_Dopamine.ipynb\" target=\"_parent\"><img src=\"https://colab.research.google.com/assets/colab-badge.svg\" alt=\"Open In Colab\"/></a>"
      ]
    },
    {
      "cell_type": "code",
      "metadata": {
        "id": "wP9AgyY0_CAj",
        "colab_type": "code",
        "outputId": "bd5fb406-5cc6-4128-e479-061d5e0147c2",
        "colab": {
          "base_uri": "https://localhost:8080/",
          "height": 368
        }
      },
      "source": [
        "# @title Install necessary packages.\n",
        "!pip install --upgrade --no-cache-dir dopamine-rl\n",
        "!pip install gin-config"
      ],
      "execution_count": 0,
      "outputs": [
        {
          "output_type": "stream",
          "text": [
            "Collecting dopamine-rl\n",
            "\u001b[?25l  Downloading https://files.pythonhosted.org/packages/f1/a8/7cf1fe1b5b11a7165c8901bc50091e3fa68f97f48fb4035f31cf6fc675f2/dopamine_rl-3.0.1-py3-none-any.whl (84kB)\n",
            "\r\u001b[K     |███▉                            | 10kB 26.2MB/s eta 0:00:01\r\u001b[K     |███████▊                        | 20kB 6.3MB/s eta 0:00:01\r\u001b[K     |███████████▋                    | 30kB 8.9MB/s eta 0:00:01\r\u001b[K     |███████████████▍                | 40kB 5.6MB/s eta 0:00:01\r\u001b[K     |███████████████████▎            | 51kB 6.7MB/s eta 0:00:01\r\u001b[K     |███████████████████████▏        | 61kB 8.0MB/s eta 0:00:01\r\u001b[K     |███████████████████████████     | 71kB 9.2MB/s eta 0:00:01\r\u001b[K     |██████████████████████████████▉ | 81kB 10.3MB/s eta 0:00:01\r\u001b[K     |████████████████████████████████| 92kB 11.5MB/s \n",
            "\u001b[?25hRequirement already satisfied, skipping upgrade: Pillow>=5.4.1 in /usr/local/lib/python3.6/dist-packages (from dopamine-rl) (6.2.2)\n",
            "Requirement already satisfied, skipping upgrade: opencv-python>=3.4.1.15 in /usr/local/lib/python3.6/dist-packages (from dopamine-rl) (4.1.2.30)\n",
            "Requirement already satisfied, skipping upgrade: gin-config>=0.1.1 in /usr/local/lib/python3.6/dist-packages (from dopamine-rl) (0.3.0)\n",
            "Requirement already satisfied, skipping upgrade: absl-py>=0.2.2 in /usr/local/lib/python3.6/dist-packages (from dopamine-rl) (0.9.0)\n",
            "Requirement already satisfied, skipping upgrade: gym>=0.10.5 in /usr/local/lib/python3.6/dist-packages (from dopamine-rl) (0.15.4)\n",
            "Requirement already satisfied, skipping upgrade: numpy>=1.11.3 in /usr/local/lib/python3.6/dist-packages (from opencv-python>=3.4.1.15->dopamine-rl) (1.17.5)\n",
            "Requirement already satisfied, skipping upgrade: six>=1.10.0 in /usr/local/lib/python3.6/dist-packages (from gin-config>=0.1.1->dopamine-rl) (1.12.0)\n",
            "Requirement already satisfied, skipping upgrade: pyglet<=1.3.2,>=1.2.0 in /usr/local/lib/python3.6/dist-packages (from gym>=0.10.5->dopamine-rl) (1.3.2)\n",
            "Requirement already satisfied, skipping upgrade: cloudpickle~=1.2.0 in /usr/local/lib/python3.6/dist-packages (from gym>=0.10.5->dopamine-rl) (1.2.2)\n",
            "Requirement already satisfied, skipping upgrade: scipy in /usr/local/lib/python3.6/dist-packages (from gym>=0.10.5->dopamine-rl) (1.4.1)\n",
            "Requirement already satisfied, skipping upgrade: future in /usr/local/lib/python3.6/dist-packages (from pyglet<=1.3.2,>=1.2.0->gym>=0.10.5->dopamine-rl) (0.16.0)\n",
            "Installing collected packages: dopamine-rl\n",
            "  Found existing installation: dopamine-rl 1.0.5\n",
            "    Uninstalling dopamine-rl-1.0.5:\n",
            "      Successfully uninstalled dopamine-rl-1.0.5\n",
            "Successfully installed dopamine-rl-3.0.1\n",
            "Requirement already satisfied: gin-config in /usr/local/lib/python3.6/dist-packages (0.3.0)\n",
            "Requirement already satisfied: six>=1.10.0 in /usr/local/lib/python3.6/dist-packages (from gin-config) (1.12.0)\n"
          ],
          "name": "stdout"
        }
      ]
    },
    {
      "cell_type": "code",
      "metadata": {
        "id": "kZSdnD7I_Qq0",
        "colab_type": "code",
        "outputId": "26632a73-1c64-4f4b-8b99-a2ab37a8024c",
        "colab": {
          "base_uri": "https://localhost:8080/",
          "height": 62
        }
      },
      "source": [
        "\n",
        "import numpy as np\n",
        "import os\n",
        "from dopamine.discrete_domains import run_experiment\n",
        "from dopamine.colab import utils as colab_utils\n",
        "from absl import flags\n",
        "import gin.tf\n",
        "\n",
        "BASE_PATH = '/tmp/colab_dopamine_run'  # @param"
      ],
      "execution_count": 0,
      "outputs": [
        {
          "output_type": "display_data",
          "data": {
            "text/html": [
              "<p style=\"color: red;\">\n",
              "The default version of TensorFlow in Colab will soon switch to TensorFlow 2.x.<br>\n",
              "We recommend you <a href=\"https://www.tensorflow.org/guide/migrate\" target=\"_blank\">upgrade</a> now \n",
              "or ensure your notebook will continue to use TensorFlow 1.x via the <code>%tensorflow_version 1.x</code> magic:\n",
              "<a href=\"https://colab.research.google.com/notebooks/tensorflow_version.ipynb\" target=\"_blank\">more info</a>.</p>\n"
            ],
            "text/plain": [
              "<IPython.core.display.HTML object>"
            ]
          },
          "metadata": {
            "tags": []
          }
        }
      ]
    },
    {
      "cell_type": "markdown",
      "metadata": {
        "id": "fLZsVgOk_YYX",
        "colab_type": "text"
      },
      "source": [
        "TRAIN DQN"
      ]
    },
    {
      "cell_type": "code",
      "metadata": {
        "id": "CkTGcZgU_XD-",
        "colab_type": "code",
        "colab": {}
      },
      "source": [
        "# @title Load the configuration for DQN.\n",
        "\n",
        "DQN_PATH = os.path.join(BASE_PATH, 'dqn')\n",
        "# Modified from dopamine/agents/dqn/config/dqn_cartpole.gin\n",
        "dqn_config = \"\"\"\n",
        "# Hyperparameters for a simple DQN-style Cartpole agent. The hyperparameters\n",
        "# chosen achieve reasonable performance.\n",
        "import dopamine.discrete_domains.gym_lib\n",
        "import dopamine.discrete_domains.run_experiment\n",
        "import dopamine.agents.dqn.dqn_agent\n",
        "import dopamine.replay_memory.circular_replay_buffer\n",
        "import gin.tf.external_configurables\n",
        "\n",
        "DQNAgent.observation_shape = %gym_lib.CARTPOLE_OBSERVATION_SHAPE\n",
        "DQNAgent.observation_dtype = %gym_lib.CARTPOLE_OBSERVATION_DTYPE\n",
        "DQNAgent.stack_size = %gym_lib.CARTPOLE_STACK_SIZE\n",
        "DQNAgent.network = @gym_lib.CartpoleDQNNetwork\n",
        "DQNAgent.gamma = 0.99\n",
        "DQNAgent.update_horizon = 1\n",
        "DQNAgent.min_replay_history = 500\n",
        "DQNAgent.update_period = 4\n",
        "DQNAgent.target_update_period = 100\n",
        "DQNAgent.epsilon_fn = @dqn_agent.identity_epsilon\n",
        "DQNAgent.tf_device = '/gpu:0'  # use '/cpu:*' for non-GPU version\n",
        "DQNAgent.optimizer = @tf.train.AdamOptimizer()\n",
        "\n",
        "tf.train.AdamOptimizer.learning_rate = 0.001\n",
        "tf.train.AdamOptimizer.epsilon = 0.0003125\n",
        "\n",
        "create_gym_environment.environment_name = 'CartPole'\n",
        "create_gym_environment.version = 'v0'\n",
        "create_agent.agent_name = 'dqn'\n",
        "TrainRunner.create_environment_fn = @gym_lib.create_gym_environment\n",
        "Runner.num_iterations = 50\n",
        "Runner.training_steps = 1000\n",
        "Runner.evaluation_steps = 1000\n",
        "Runner.max_steps_per_episode = 200  # Default max episode length.\n",
        "\n",
        "WrappedReplayBuffer.replay_capacity = 50000\n",
        "WrappedReplayBuffer.batch_size = 128\n",
        "\"\"\"\n",
        "gin.parse_config(dqn_config, skip_unknown=False)"
      ],
      "execution_count": 0,
      "outputs": []
    },
    {
      "cell_type": "code",
      "metadata": {
        "id": "ntmp7BsB_isD",
        "colab_type": "code",
        "outputId": "2b57dd43-fd40-498d-cd41-d941b04eccb6",
        "colab": {
          "base_uri": "https://localhost:8080/",
          "height": 1000
        }
      },
      "source": [
        "# @title Train DQN on Cartpole\n",
        "dqn_runner = run_experiment.create_runner(DQN_PATH, schedule='continuous_train')\n",
        "print('Will train DQN agent, please be patient, may be a while...')\n",
        "dqn_runner.run_experiment()\n",
        "print('Done training!')"
      ],
      "execution_count": 0,
      "outputs": [
        {
          "output_type": "stream",
          "text": [
            "INFO:tensorflow:Creating TrainRunner ...\n",
            "INFO:tensorflow:Creating DQNAgent agent with the following parameters:\n",
            "INFO:tensorflow:\t gamma: 0.990000\n",
            "INFO:tensorflow:\t update_horizon: 1.000000\n",
            "INFO:tensorflow:\t min_replay_history: 500\n",
            "INFO:tensorflow:\t update_period: 4\n",
            "INFO:tensorflow:\t target_update_period: 100\n",
            "INFO:tensorflow:\t epsilon_train: 0.010000\n",
            "INFO:tensorflow:\t epsilon_eval: 0.001000\n",
            "INFO:tensorflow:\t epsilon_decay_period: 250000\n",
            "INFO:tensorflow:\t tf_device: /gpu:0\n",
            "INFO:tensorflow:\t use_staging: True\n",
            "INFO:tensorflow:\t optimizer: <tensorflow.python.training.adam.AdamOptimizer object at 0x7f4569fd0208>\n",
            "INFO:tensorflow:\t max_tf_checkpoints_to_keep: 4\n",
            "INFO:tensorflow:Creating a OutOfGraphReplayBuffer replay memory with the following parameters:\n",
            "INFO:tensorflow:\t observation_shape: (4, 1)\n",
            "INFO:tensorflow:\t observation_dtype: <class 'numpy.float64'>\n",
            "INFO:tensorflow:\t terminal_dtype: <class 'numpy.uint8'>\n",
            "INFO:tensorflow:\t stack_size: 1\n",
            "INFO:tensorflow:\t replay_capacity: 50000\n",
            "INFO:tensorflow:\t batch_size: 128\n",
            "INFO:tensorflow:\t update_horizon: 1\n",
            "INFO:tensorflow:\t gamma: 0.990000\n",
            "WARNING:tensorflow:From /usr/local/lib/python3.6/dist-packages/dopamine/replay_memory/circular_replay_buffer.py:821: py_func (from tensorflow.python.ops.script_ops) is deprecated and will be removed in a future version.\n",
            "Instructions for updating:\n",
            "tf.py_func is deprecated in TF V2. Instead, there are two\n",
            "    options available in V2.\n",
            "    - tf.py_function takes a python function which manipulates tf eager\n",
            "    tensors instead of numpy arrays. It's easy to convert a tf eager tensor to\n",
            "    an ndarray (just call tensor.numpy()) but having access to eager tensors\n",
            "    means `tf.py_function`s can use accelerators such as GPUs as well as\n",
            "    being differentiable using a gradient tape.\n",
            "    - tf.numpy_function maintains the semantics of the deprecated tf.py_func\n",
            "    (it is not differentiable, and manipulates numpy arrays). It drops the\n",
            "    stateful argument making all functions stateful.\n",
            "    \n",
            "WARNING:tensorflow:From /usr/local/lib/python3.6/dist-packages/tensorflow_core/python/ops/resource_variable_ops.py:1630: calling BaseResourceVariable.__init__ (from tensorflow.python.ops.resource_variable_ops) with constraint is deprecated and will be removed in a future version.\n",
            "Instructions for updating:\n",
            "If using Keras pass *_constraint arguments to layers.\n",
            "WARNING:tensorflow:From /usr/local/lib/python3.6/dist-packages/tensorflow_core/python/ops/math_grad.py:1424: where (from tensorflow.python.ops.array_ops) is deprecated and will be removed in a future version.\n",
            "Instructions for updating:\n",
            "Use tf.where in 2.0, which has the same broadcast rule as np.where\n",
            "WARNING:tensorflow:From /usr/local/lib/python3.6/dist-packages/dopamine/agents/dqn/dqn_agent.py:206: all_variables (from tensorflow.python.ops.variables) is deprecated and will be removed after 2017-03-02.\n",
            "Instructions for updating:\n",
            "Please use tf.global_variables instead.\n",
            "INFO:tensorflow:legacy_checkpoint_load: False\n",
            "Will train DQN agent, please be patient, may be a while...\n",
            "INFO:tensorflow:Beginning training...\n",
            "INFO:tensorflow:Average undiscounted return per training episode: 9.31\n",
            "INFO:tensorflow:Average training steps per second: 244.50\n",
            "INFO:tensorflow:Average undiscounted return per training episode: 10.17\n",
            "INFO:tensorflow:Average training steps per second: 267.85\n",
            "INFO:tensorflow:Average undiscounted return per training episode: 14.06\n",
            "INFO:tensorflow:Average training steps per second: 269.62\n",
            "INFO:tensorflow:Average undiscounted return per training episode: 149.86\n",
            "INFO:tensorflow:Average training steps per second: 272.30\n",
            "INFO:tensorflow:Average undiscounted return per training episode: 96.64\n",
            "INFO:tensorflow:Average training steps per second: 283.77\n",
            "WARNING:tensorflow:From /usr/local/lib/python3.6/dist-packages/tensorflow_core/python/training/saver.py:963: remove_checkpoint (from tensorflow.python.training.checkpoint_management) is deprecated and will be removed in a future version.\n",
            "Instructions for updating:\n",
            "Use standard file APIs to delete files with this prefix.\n",
            "INFO:tensorflow:Average undiscounted return per training episode: 94.91\n",
            "INFO:tensorflow:Average training steps per second: 289.14\n",
            "INFO:tensorflow:Average undiscounted return per training episode: 109.70\n",
            "INFO:tensorflow:Average training steps per second: 272.52\n",
            "INFO:tensorflow:Average undiscounted return per training episode: 170.83\n",
            "INFO:tensorflow:Average training steps per second: 292.98\n",
            "INFO:tensorflow:Average undiscounted return per training episode: 150.57\n",
            "INFO:tensorflow:Average training steps per second: 290.52\n",
            "INFO:tensorflow:Average undiscounted return per training episode: 143.25\n",
            "INFO:tensorflow:Average training steps per second: 290.29\n",
            "INFO:tensorflow:Average undiscounted return per training episode: 146.25\n",
            "INFO:tensorflow:Average training steps per second: 289.94\n",
            "INFO:tensorflow:Average undiscounted return per training episode: 149.71\n",
            "INFO:tensorflow:Average training steps per second: 278.30\n",
            "INFO:tensorflow:Average undiscounted return per training episode: 129.25\n",
            "INFO:tensorflow:Average training steps per second: 274.68\n",
            "INFO:tensorflow:Average undiscounted return per training episode: 113.78\n",
            "INFO:tensorflow:Average training steps per second: 290.46\n",
            "INFO:tensorflow:Average undiscounted return per training episode: 124.11\n",
            "INFO:tensorflow:Average training steps per second: 288.75\n",
            "INFO:tensorflow:Average undiscounted return per training episode: 102.20\n",
            "INFO:tensorflow:Average training steps per second: 289.06\n",
            "INFO:tensorflow:Average undiscounted return per training episode: 101.30\n",
            "INFO:tensorflow:Average training steps per second: 286.12\n",
            "INFO:tensorflow:Average undiscounted return per training episode: 101.00\n",
            "INFO:tensorflow:Average training steps per second: 293.85\n",
            "INFO:tensorflow:Average undiscounted return per training episode: 89.50\n",
            "INFO:tensorflow:Average training steps per second: 274.79\n",
            "INFO:tensorflow:Average undiscounted return per training episode: 88.42\n",
            "INFO:tensorflow:Average training steps per second: 291.61\n",
            "INFO:tensorflow:Average undiscounted return per training episode: 84.38\n",
            "INFO:tensorflow:Average training steps per second: 288.39\n",
            "INFO:tensorflow:Average undiscounted return per training episode: 76.92\n",
            "INFO:tensorflow:Average training steps per second: 292.67\n",
            "INFO:tensorflow:Average undiscounted return per training episode: 85.25\n",
            "INFO:tensorflow:Average training steps per second: 276.23\n",
            "INFO:tensorflow:Average undiscounted return per training episode: 72.86\n",
            "INFO:tensorflow:Average training steps per second: 281.74\n",
            "INFO:tensorflow:Average undiscounted return per training episode: 69.00\n",
            "INFO:tensorflow:Average training steps per second: 277.78\n",
            "INFO:tensorflow:Average undiscounted return per training episode: 66.38\n",
            "INFO:tensorflow:Average training steps per second: 279.37\n",
            "INFO:tensorflow:Average undiscounted return per training episode: 68.07\n",
            "INFO:tensorflow:Average training steps per second: 285.77\n",
            "INFO:tensorflow:Average undiscounted return per training episode: 61.94\n",
            "INFO:tensorflow:Average training steps per second: 272.85\n",
            "INFO:tensorflow:Average undiscounted return per training episode: 61.12\n",
            "INFO:tensorflow:Average training steps per second: 274.74\n",
            "INFO:tensorflow:Average undiscounted return per training episode: 65.81\n",
            "INFO:tensorflow:Average training steps per second: 285.94\n",
            "INFO:tensorflow:Average undiscounted return per training episode: 47.95\n",
            "INFO:tensorflow:Average training steps per second: 280.56\n",
            "INFO:tensorflow:Average undiscounted return per training episode: 40.56\n",
            "INFO:tensorflow:Average training steps per second: 287.65\n",
            "INFO:tensorflow:Average undiscounted return per training episode: 45.59\n",
            "INFO:tensorflow:Average training steps per second: 286.26\n",
            "INFO:tensorflow:Average undiscounted return per training episode: 38.50\n",
            "INFO:tensorflow:Average training steps per second: 291.55\n",
            "INFO:tensorflow:Average undiscounted return per training episode: 32.12\n",
            "INFO:tensorflow:Average training steps per second: 268.07\n",
            "INFO:tensorflow:Average undiscounted return per training episode: 28.14\n",
            "INFO:tensorflow:Average training steps per second: 283.23\n",
            "INFO:tensorflow:Average undiscounted return per training episode: 21.35\n",
            "INFO:tensorflow:Average training steps per second: 282.84\n",
            "INFO:tensorflow:Average undiscounted return per training episode: 33.19\n",
            "INFO:tensorflow:Average training steps per second: 286.28\n",
            "INFO:tensorflow:Average undiscounted return per training episode: 23.40\n",
            "INFO:tensorflow:Average training steps per second: 266.96\n",
            "INFO:tensorflow:Average undiscounted return per training episode: 17.48\n",
            "INFO:tensorflow:Average training steps per second: 272.00\n",
            "INFO:tensorflow:Average undiscounted return per training episode: 17.75\n",
            "INFO:tensorflow:Average training steps per second: 269.95\n",
            "INFO:tensorflow:Average undiscounted return per training episode: 20.10\n",
            "INFO:tensorflow:Average training steps per second: 279.36\n",
            "INFO:tensorflow:Average undiscounted return per training episode: 20.04\n",
            "INFO:tensorflow:Average training steps per second: 274.32\n",
            "INFO:tensorflow:Average undiscounted return per training episode: 20.88\n",
            "INFO:tensorflow:Average training steps per second: 250.50\n",
            "INFO:tensorflow:Average undiscounted return per training episode: 21.45\n",
            "INFO:tensorflow:Average training steps per second: 278.33\n",
            "INFO:tensorflow:Average undiscounted return per training episode: 21.02\n",
            "INFO:tensorflow:Average training steps per second: 277.76\n",
            "INFO:tensorflow:Average undiscounted return per training episode: 19.13\n",
            "INFO:tensorflow:Average training steps per second: 268.58\n",
            "INFO:tensorflow:Average undiscounted return per training episode: 20.28\n",
            "INFO:tensorflow:Average training steps per second: 279.56\n",
            "INFO:tensorflow:Average undiscounted return per training episode: 19.09\n",
            "INFO:tensorflow:Average training steps per second: 298.25\n",
            "INFO:tensorflow:Average undiscounted return per training episode: 18.72\n",
            "INFO:tensorflow:Average training steps per second: 307.74\n",
            "Done training!\n"
          ],
          "name": "stdout"
        }
      ]
    },
    {
      "cell_type": "markdown",
      "metadata": {
        "id": "sw_E7RUS_-LJ",
        "colab_type": "text"
      },
      "source": [
        "TRAIN C51"
      ]
    },
    {
      "cell_type": "code",
      "metadata": {
        "id": "r2njgrihAAWa",
        "colab_type": "code",
        "colab": {}
      },
      "source": [
        "# @title Load the configuration for C51.\n",
        "\n",
        "C51_PATH = os.path.join(BASE_PATH, 'c51')\n",
        "# Modified from dopamine/agents/rainbow/config/c51_cartpole.gin\n",
        "c51_config = \"\"\"\n",
        "# Hyperparameters for a simple C51-style Cartpole agent. The hyperparameters\n",
        "# chosen achieve reasonable performance.\n",
        "import dopamine.agents.dqn.dqn_agent\n",
        "import dopamine.agents.rainbow.rainbow_agent\n",
        "import dopamine.discrete_domains.gym_lib\n",
        "import dopamine.discrete_domains.run_experiment\n",
        "import dopamine.replay_memory.prioritized_replay_buffer\n",
        "import gin.tf.external_configurables\n",
        "\n",
        "RainbowAgent.observation_shape = %gym_lib.CARTPOLE_OBSERVATION_SHAPE\n",
        "RainbowAgent.observation_dtype = %gym_lib.CARTPOLE_OBSERVATION_DTYPE\n",
        "RainbowAgent.stack_size = %gym_lib.CARTPOLE_STACK_SIZE\n",
        "RainbowAgent.network = @gym_lib.CartpoleRainbowNetwork\n",
        "RainbowAgent.num_atoms = 51\n",
        "RainbowAgent.vmax = 10.\n",
        "RainbowAgent.gamma = 0.99\n",
        "RainbowAgent.update_horizon = 1\n",
        "RainbowAgent.min_replay_history = 500\n",
        "RainbowAgent.update_period = 4\n",
        "RainbowAgent.target_update_period = 100\n",
        "RainbowAgent.epsilon_fn = @dqn_agent.identity_epsilon\n",
        "RainbowAgent.replay_scheme = 'uniform'\n",
        "RainbowAgent.tf_device = '/gpu:0'  # use '/cpu:*' for non-GPU version\n",
        "RainbowAgent.optimizer = @tf.train.AdamOptimizer()\n",
        "\n",
        "tf.train.AdamOptimizer.learning_rate = 0.001\n",
        "tf.train.AdamOptimizer.epsilon = 0.0003125\n",
        "\n",
        "create_gym_environment.environment_name = 'CartPole'\n",
        "create_gym_environment.version = 'v0'\n",
        "create_agent.agent_name = 'rainbow'\n",
        "Runner.create_environment_fn = @gym_lib.create_gym_environment\n",
        "Runner.num_iterations = 50\n",
        "Runner.training_steps = 1000\n",
        "Runner.evaluation_steps = 1000\n",
        "Runner.max_steps_per_episode = 200  # Default max episode length.\n",
        "\n",
        "WrappedPrioritizedReplayBuffer.replay_capacity = 50000\n",
        "WrappedPrioritizedReplayBuffer.batch_size = 128\n",
        "\"\"\"\n",
        "gin.parse_config(c51_config, skip_unknown=False)"
      ],
      "execution_count": 0,
      "outputs": []
    },
    {
      "cell_type": "code",
      "metadata": {
        "id": "QpHYj1HWABZM",
        "colab_type": "code",
        "outputId": "d676de58-367d-4e11-fff0-6b4e6f091332",
        "colab": {
          "base_uri": "https://localhost:8080/",
          "height": 1000
        }
      },
      "source": [
        "# @title Train C51 on Cartpole\n",
        "c51_runner = run_experiment.create_runner(C51_PATH, schedule='continuous_train')\n",
        "print('Will train agent, please be patient, may be a while...')\n",
        "c51_runner.run_experiment()\n",
        "print('Done training!')"
      ],
      "execution_count": 0,
      "outputs": [
        {
          "output_type": "stream",
          "text": [
            "INFO:tensorflow:Creating TrainRunner ...\n",
            "INFO:tensorflow:Creating RainbowAgent agent with the following parameters:\n",
            "INFO:tensorflow:\t gamma: 0.990000\n",
            "INFO:tensorflow:\t update_horizon: 1.000000\n",
            "INFO:tensorflow:\t min_replay_history: 500\n",
            "INFO:tensorflow:\t update_period: 4\n",
            "INFO:tensorflow:\t target_update_period: 100\n",
            "INFO:tensorflow:\t epsilon_train: 0.010000\n",
            "INFO:tensorflow:\t epsilon_eval: 0.001000\n",
            "INFO:tensorflow:\t epsilon_decay_period: 250000\n",
            "INFO:tensorflow:\t tf_device: /gpu:0\n",
            "INFO:tensorflow:\t use_staging: True\n",
            "INFO:tensorflow:\t optimizer: <tensorflow.python.training.adam.AdamOptimizer object at 0x7f455a4bde48>\n",
            "INFO:tensorflow:\t max_tf_checkpoints_to_keep: 4\n",
            "INFO:tensorflow:Creating a OutOfGraphPrioritizedReplayBuffer replay memory with the following parameters:\n",
            "INFO:tensorflow:\t observation_shape: (4, 1)\n",
            "INFO:tensorflow:\t observation_dtype: <class 'numpy.float64'>\n",
            "INFO:tensorflow:\t terminal_dtype: <class 'numpy.uint8'>\n",
            "INFO:tensorflow:\t stack_size: 1\n",
            "INFO:tensorflow:\t replay_capacity: 50000\n",
            "INFO:tensorflow:\t batch_size: 128\n",
            "INFO:tensorflow:\t update_horizon: 1\n",
            "INFO:tensorflow:\t gamma: 0.990000\n",
            "WARNING:tensorflow:From /usr/local/lib/python3.6/dist-packages/dopamine/agents/rainbow/rainbow_agent.py:230: to_int64 (from tensorflow.python.ops.math_ops) is deprecated and will be removed in a future version.\n",
            "Instructions for updating:\n",
            "Use `tf.cast` instead.\n",
            "WARNING:tensorflow:From /usr/local/lib/python3.6/dist-packages/dopamine/agents/rainbow/rainbow_agent.py:261: softmax_cross_entropy_with_logits (from tensorflow.python.ops.nn_ops) is deprecated and will be removed in a future version.\n",
            "Instructions for updating:\n",
            "\n",
            "Future major versions of TensorFlow will allow gradients to flow\n",
            "into the labels input on backprop by default.\n",
            "\n",
            "See `tf.nn.softmax_cross_entropy_with_logits_v2`.\n",
            "\n",
            "INFO:tensorflow:legacy_checkpoint_load: False\n",
            "Will train agent, please be patient, may be a while...\n",
            "INFO:tensorflow:Beginning training...\n",
            "INFO:tensorflow:Average undiscounted return per training episode: 23.20\n",
            "INFO:tensorflow:Average training steps per second: 359.14\n",
            "INFO:tensorflow:Average undiscounted return per training episode: 27.89\n",
            "INFO:tensorflow:Average training steps per second: 268.71\n",
            "INFO:tensorflow:Average undiscounted return per training episode: 84.54\n",
            "INFO:tensorflow:Average training steps per second: 275.55\n",
            "INFO:tensorflow:Average undiscounted return per training episode: 125.00\n",
            "INFO:tensorflow:Average training steps per second: 261.85\n",
            "INFO:tensorflow:Average undiscounted return per training episode: 186.83\n",
            "INFO:tensorflow:Average training steps per second: 277.85\n",
            "INFO:tensorflow:Average undiscounted return per training episode: 190.00\n",
            "INFO:tensorflow:Average training steps per second: 277.05\n",
            "INFO:tensorflow:Average undiscounted return per training episode: 169.17\n",
            "INFO:tensorflow:Average training steps per second: 278.55\n",
            "INFO:tensorflow:Average undiscounted return per training episode: 200.00\n",
            "INFO:tensorflow:Average training steps per second: 274.44\n",
            "INFO:tensorflow:Average undiscounted return per training episode: 200.00\n",
            "INFO:tensorflow:Average training steps per second: 262.90\n",
            "INFO:tensorflow:Average undiscounted return per training episode: 200.00\n",
            "INFO:tensorflow:Average training steps per second: 268.31\n",
            "INFO:tensorflow:Average undiscounted return per training episode: 195.33\n",
            "INFO:tensorflow:Average training steps per second: 275.76\n",
            "INFO:tensorflow:Average undiscounted return per training episode: 192.83\n",
            "INFO:tensorflow:Average training steps per second: 271.83\n",
            "INFO:tensorflow:Average undiscounted return per training episode: 168.00\n",
            "INFO:tensorflow:Average training steps per second: 277.39\n",
            "INFO:tensorflow:Average undiscounted return per training episode: 159.71\n",
            "INFO:tensorflow:Average training steps per second: 278.40\n",
            "INFO:tensorflow:Average undiscounted return per training episode: 146.57\n",
            "INFO:tensorflow:Average training steps per second: 275.48\n",
            "INFO:tensorflow:Average undiscounted return per training episode: 147.29\n",
            "INFO:tensorflow:Average training steps per second: 267.52\n",
            "INFO:tensorflow:Average undiscounted return per training episode: 145.62\n",
            "INFO:tensorflow:Average training steps per second: 271.97\n",
            "INFO:tensorflow:Average undiscounted return per training episode: 158.14\n",
            "INFO:tensorflow:Average training steps per second: 275.50\n",
            "INFO:tensorflow:Average undiscounted return per training episode: 170.00\n",
            "INFO:tensorflow:Average training steps per second: 272.49\n",
            "INFO:tensorflow:Average undiscounted return per training episode: 169.50\n",
            "INFO:tensorflow:Average training steps per second: 278.25\n",
            "INFO:tensorflow:Average undiscounted return per training episode: 177.17\n",
            "INFO:tensorflow:Average training steps per second: 278.81\n",
            "INFO:tensorflow:Average undiscounted return per training episode: 183.50\n",
            "INFO:tensorflow:Average training steps per second: 275.71\n",
            "INFO:tensorflow:Average undiscounted return per training episode: 175.00\n",
            "INFO:tensorflow:Average training steps per second: 271.50\n",
            "INFO:tensorflow:Average undiscounted return per training episode: 175.17\n",
            "INFO:tensorflow:Average training steps per second: 261.46\n",
            "INFO:tensorflow:Average undiscounted return per training episode: 188.33\n",
            "INFO:tensorflow:Average training steps per second: 277.95\n",
            "INFO:tensorflow:Average undiscounted return per training episode: 187.67\n",
            "INFO:tensorflow:Average training steps per second: 273.76\n",
            "INFO:tensorflow:Average undiscounted return per training episode: 166.83\n",
            "INFO:tensorflow:Average training steps per second: 277.38\n",
            "INFO:tensorflow:Average undiscounted return per training episode: 176.83\n",
            "INFO:tensorflow:Average training steps per second: 276.73\n",
            "INFO:tensorflow:Average undiscounted return per training episode: 185.17\n",
            "INFO:tensorflow:Average training steps per second: 277.40\n",
            "INFO:tensorflow:Average undiscounted return per training episode: 184.17\n",
            "INFO:tensorflow:Average training steps per second: 263.10\n",
            "INFO:tensorflow:Average undiscounted return per training episode: 170.50\n",
            "INFO:tensorflow:Average training steps per second: 271.61\n",
            "INFO:tensorflow:Average undiscounted return per training episode: 172.17\n",
            "INFO:tensorflow:Average training steps per second: 278.86\n",
            "INFO:tensorflow:Average undiscounted return per training episode: 153.86\n",
            "INFO:tensorflow:Average training steps per second: 264.13\n",
            "INFO:tensorflow:Average undiscounted return per training episode: 167.29\n",
            "INFO:tensorflow:Average training steps per second: 276.68\n",
            "INFO:tensorflow:Average undiscounted return per training episode: 154.57\n",
            "INFO:tensorflow:Average training steps per second: 272.19\n",
            "INFO:tensorflow:Average undiscounted return per training episode: 139.38\n",
            "INFO:tensorflow:Average training steps per second: 275.13\n",
            "INFO:tensorflow:Average undiscounted return per training episode: 129.78\n",
            "INFO:tensorflow:Average training steps per second: 274.13\n",
            "INFO:tensorflow:Average undiscounted return per training episode: 155.57\n",
            "INFO:tensorflow:Average training steps per second: 254.06\n",
            "INFO:tensorflow:Average undiscounted return per training episode: 160.71\n",
            "INFO:tensorflow:Average training steps per second: 276.84\n",
            "INFO:tensorflow:Average undiscounted return per training episode: 170.33\n",
            "INFO:tensorflow:Average training steps per second: 273.88\n",
            "INFO:tensorflow:Average undiscounted return per training episode: 186.67\n",
            "INFO:tensorflow:Average training steps per second: 274.94\n",
            "INFO:tensorflow:Average undiscounted return per training episode: 153.00\n",
            "INFO:tensorflow:Average training steps per second: 275.96\n",
            "INFO:tensorflow:Average undiscounted return per training episode: 138.75\n",
            "INFO:tensorflow:Average training steps per second: 274.88\n",
            "INFO:tensorflow:Average undiscounted return per training episode: 131.00\n",
            "INFO:tensorflow:Average training steps per second: 260.03\n",
            "INFO:tensorflow:Average undiscounted return per training episode: 143.57\n",
            "INFO:tensorflow:Average training steps per second: 277.43\n",
            "INFO:tensorflow:Average undiscounted return per training episode: 145.00\n",
            "INFO:tensorflow:Average training steps per second: 274.57\n",
            "INFO:tensorflow:Average undiscounted return per training episode: 151.43\n",
            "INFO:tensorflow:Average training steps per second: 275.47\n",
            "INFO:tensorflow:Average undiscounted return per training episode: 152.57\n",
            "INFO:tensorflow:Average training steps per second: 303.69\n",
            "INFO:tensorflow:Average undiscounted return per training episode: 145.00\n",
            "INFO:tensorflow:Average training steps per second: 303.05\n",
            "INFO:tensorflow:Average undiscounted return per training episode: 126.50\n",
            "INFO:tensorflow:Average training steps per second: 301.18\n",
            "Done training!\n"
          ],
          "name": "stdout"
        }
      ]
    },
    {
      "cell_type": "markdown",
      "metadata": {
        "id": "QR0sW3KXAJkz",
        "colab_type": "text"
      },
      "source": [
        "Plot results"
      ]
    },
    {
      "cell_type": "code",
      "metadata": {
        "id": "am_-atdWALop",
        "colab_type": "code",
        "outputId": "cb74531b-f2f5-4689-9442-ec9ee8e4b678",
        "colab": {
          "base_uri": "https://localhost:8080/",
          "height": 50
        }
      },
      "source": [
        "# @title Load the training logs.\n",
        "data = colab_utils.read_experiment(DQN_PATH, verbose=True,\n",
        "                                   summary_keys=['train_episode_returns'])\n",
        "data['agent'] = 'DQN'\n",
        "data['run'] = 1\n",
        "c51_data = colab_utils.read_experiment(C51_PATH, verbose=True,\n",
        "                                       summary_keys=['train_episode_returns'])\n",
        "c51_data['agent'] = 'C51'\n",
        "c51_data['run'] = 1\n",
        "data = data.merge(c51_data, how='outer')"
      ],
      "execution_count": 0,
      "outputs": [
        {
          "output_type": "stream",
          "text": [
            "Reading statistics from: /tmp/colab_dopamine_run/dqn//logs/log_49\n",
            "Reading statistics from: /tmp/colab_dopamine_run/c51//logs/log_49\n"
          ],
          "name": "stdout"
        }
      ]
    },
    {
      "cell_type": "code",
      "metadata": {
        "id": "ZE3DZ5dBAQ3o",
        "colab_type": "code",
        "outputId": "25af674c-5fce-4c6d-b7fe-caa673cc534d",
        "colab": {
          "base_uri": "https://localhost:8080/",
          "height": 566
        }
      },
      "source": [
        "# @title Plot training results.\n",
        "\n",
        "import seaborn as sns\n",
        "import matplotlib.pyplot as plt\n",
        "\n",
        "fig, ax = plt.subplots(figsize=(16,8))\n",
        "sns.tsplot(data=data, time='iteration', unit='run',\n",
        "           condition='agent', value='train_episode_returns', ax=ax)\n",
        "plt.title('Cartpole')\n",
        "plt.show()"
      ],
      "execution_count": 0,
      "outputs": [
        {
          "output_type": "stream",
          "text": [
            "/usr/local/lib/python3.6/dist-packages/seaborn/timeseries.py:183: UserWarning: The `tsplot` function is deprecated and will be removed in a future release. Please update your code to use the new `lineplot` function.\n",
            "  warnings.warn(msg, UserWarning)\n"
          ],
          "name": "stderr"
        },
        {
          "output_type": "display_data",
          "data": {
            "image/png": "[encoded data removed]",
            "text/plain": [
              "<Figure size 1152x576 with 1 Axes>"
            ]
          },
          "metadata": {
            "tags": []
          }
        }
      ]
    }
  ]
}