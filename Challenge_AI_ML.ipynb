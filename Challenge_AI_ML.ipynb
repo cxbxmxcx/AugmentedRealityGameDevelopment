{
  "nbformat": 4,
  "nbformat_minor": 0,
  "metadata": {
    "colab": {
      "name": "Challenge_AI_ML.ipynb",
      "provenance": [],
      "collapsed_sections": [],
      "authorship_tag": "ABX9TyOVO2WENS1hHTDTrKjOaW5u",
      "include_colab_link": true
    },
    "kernelspec": {
      "name": "python3",
      "display_name": "Python 3"
    }
  },
  "cells": [
    {
      "cell_type": "markdown",
      "metadata": {
        "id": "view-in-github",
        "colab_type": "text"
      },
      "source": [
        "<a href=\"https://colab.research.google.com/github/cxbxmxcx/AugmentedRealityGameDevelopment/blob/master/Challenge_AI_ML.ipynb\" target=\"_parent\"><img src=\"https://colab.research.google.com/assets/colab-badge.svg\" alt=\"Open In Colab\"/></a>"
      ]
    },
    {
      "cell_type": "markdown",
      "metadata": {
        "id": "nClvVdXhMWMx",
        "colab_type": "text"
      },
      "source": [
        "IMPORTS\n"
      ]
    },
    {
      "cell_type": "code",
      "metadata": {
        "id": "1bZvW3NQMVAJ",
        "colab_type": "code",
        "colab": {}
      },
      "source": [
        "import urllib\n",
        "import numpy as np\n",
        "import matplotlib.pyplot as plt"
      ],
      "execution_count": 0,
      "outputs": []
    },
    {
      "cell_type": "markdown",
      "metadata": {
        "id": "vfQOCZA_us70",
        "colab_type": "text"
      },
      "source": [
        "READ FILE"
      ]
    },
    {
      "cell_type": "code",
      "metadata": {
        "id": "VyqdtKvhLh8f",
        "colab_type": "code",
        "colab": {}
      },
      "source": [
        "def read_input_file(url):  \n",
        "  file = urllib. request. urlopen(url)\n",
        "  text = ''\n",
        "  for line in file:\n",
        "    decoded_line = line.decode(\"utf-8\")  \n",
        "    text = text + decoded_line\n",
        "  return text"
      ],
      "execution_count": 0,
      "outputs": []
    },
    {
      "cell_type": "markdown",
      "metadata": {
        "id": "51_L3TKeux6m",
        "colab_type": "text"
      },
      "source": [
        "ROTATION CODE"
      ]
    },
    {
      "cell_type": "code",
      "metadata": {
        "id": "f7yBTTZzQ8Qj",
        "colab_type": "code",
        "colab": {}
      },
      "source": [
        "def rotate_left(dir):\n",
        "  return np.array((-dir[1],dir[0])) \n",
        "\n",
        "def rotate_right(dir):\n",
        "  return np.array((dir[1],dir[0]))"
      ],
      "execution_count": 0,
      "outputs": []
    },
    {
      "cell_type": "code",
      "metadata": {
        "id": "nZgASdrkNT9U",
        "colab_type": "code",
        "colab": {}
      },
      "source": [
        "def render_turtle_trail(turtle_path, start_direction, origin):\n",
        "  direction = start_direction\n",
        "  turtle_spot = origin\n",
        "  x = np.array((0))\n",
        "  y = np.array((0))\n",
        "  path = {}\n",
        "  moved = False\n",
        "  for instruction in turtle_path:\n",
        "    if instruction == \"F\":\n",
        "      turtle_spot = turtle_spot + direction\n",
        "      moved = True\n",
        "    if instruction == \"L\":\n",
        "      direction = rotate_left(direction)\n",
        "      moved = False\n",
        "    if instruction == \"R\":\n",
        "      direction = rotate_right(direction)\n",
        "      moved = False\n",
        "\n",
        "    if moved:\n",
        "      x = np.append(x, turtle_spot[0])\n",
        "      y = np.append(y, turtle_spot[1])\n",
        "      if np.array2string(turtle_spot) in path:\n",
        "        path[np.array2string(turtle_spot)] += 1\n",
        "      else:\n",
        "        path[np.array2string(turtle_spot)] = 1\n",
        "  print('1. ----------------------------------')\n",
        "  print(f\"Turtle completed at {turtle_spot}\")\n",
        "  print('2. ----------------------------------')\n",
        "  print('Turtle Path')\n",
        "  fig = plt.figure()\n",
        "  ax = fig.gca()\n",
        "  plt.scatter(x, y)\n",
        "  plt.grid()\n",
        "  plt.show()\n",
        "  print('3. ----------------------------------')\n",
        "  print('Turtle crossed path over the following points:')\n",
        "  for p in path:  \n",
        "    if path[p] > 1:\n",
        "      print(p)\n"
      ],
      "execution_count": 0,
      "outputs": []
    },
    {
      "cell_type": "code",
      "metadata": {
        "id": "iOqnOCxFvnzg",
        "colab_type": "code",
        "colab": {
          "base_uri": "https://localhost:8080/",
          "height": 1000
        },
        "outputId": "312986ce-baa0-49c8-937c-3bc5ecb48869"
      },
      "source": [
        "url = \"https://github.com/cxbxmxcx/CodingChallenges/blob/master/AI_ML/directions-3.txt?raw=true\"\n",
        "turtle_path = read_input_file(url)\n",
        "dir = np.array((0.0, 1.0)) \n",
        "start = np.array((0.0, 0.0))\n",
        "render_turtle_trail(turtle_path, dir, start)"
      ],
      "execution_count": 79,
      "outputs": [
        {
          "output_type": "stream",
          "text": [
            "1. ----------------------------------\n",
            "Turtle completed at [-32. -28.]\n",
            "2. ----------------------------------\n",
            "Turtle Path\n"
          ],
          "name": "stdout"
        },
        {
          "output_type": "display_data",
          "data": {
            "image/png": "[encoded data removed]",
            "text/plain": [
              "<Figure size 432x288 with 1 Axes>"
            ]
          },
          "metadata": {
            "tags": [],
            "needs_background": "light"
          }
        },
        {
          "output_type": "stream",
          "text": [
            "3. ----------------------------------\n",
            "Turtle cross path over the following points:\n",
            "[0. 1.]\n",
            "[0. 2.]\n",
            "[-2. -2.]\n",
            "[-1. -2.]\n",
            "[-1. -8.]\n",
            "[ -3. -10.]\n",
            "[ -2. -10.]\n",
            "[-2. -9.]\n",
            "[ -3. -12.]\n",
            "[ -3. -13.]\n",
            "[ -4. -13.]\n",
            "[ -4. -15.]\n",
            "[ -4. -14.]\n",
            "[ -1. -13.]\n",
            "[  0. -13.]\n",
            "[ -1. -14.]\n",
            "[ -1. -15.]\n",
            "[  1. -12.]\n",
            "[ 1. -9.]\n",
            "[ 0. -9.]\n",
            "[-1. -9.]\n",
            "[  0. -11.]\n",
            "[ 0. -8.]\n",
            "[ 3. -9.]\n",
            "[ 5. -8.]\n",
            "[ 4. -8.]\n",
            "[  3. -11.]\n",
            "[  0. -12.]\n",
            "[ -3. -14.]\n",
            "[ -2. -14.]\n",
            "[  0. -14.]\n",
            "[-11. -22.]\n",
            "[-14. -17.]\n",
            "[-15. -17.]\n",
            "[-14. -14.]\n",
            "[-14. -13.]\n",
            "[-14. -12.]\n",
            "[-12. -12.]\n",
            "[-17. -12.]\n",
            "[-20. -11.]\n",
            "[-21. -11.]\n",
            "[-22. -11.]\n",
            "[-22. -10.]\n",
            "[-22.  -9.]\n",
            "[-22.  -8.]\n",
            "[-22.  -7.]\n",
            "[-22.  -6.]\n",
            "[-22.  -5.]\n",
            "[-22.  -4.]\n",
            "[-23.  -4.]\n",
            "[-23.  -3.]\n",
            "[-21. -10.]\n",
            "[-20. -10.]\n",
            "[-21.  -5.]\n",
            "[-21.  -6.]\n",
            "[-23.  -9.]\n",
            "[-20. -16.]\n"
          ],
          "name": "stdout"
        }
      ]
    }
  ]
}